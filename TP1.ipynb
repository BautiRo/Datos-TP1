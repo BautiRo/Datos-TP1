{
 "cells": [
  {
   "cell_type": "markdown",
   "metadata": {},
   "source": [
    "# Imports e instalaciones"
   ]
  },
  {
   "cell_type": "code",
   "execution_count": null,
   "metadata": {},
   "outputs": [],
   "source": [
    "!pip install squarify\n",
    "import pandas as pd\n",
    "import numpy as np\n",
    "import seaborn as sns\n",
    "import squarify\n",
    "import matplotlib.pyplot as plt\n",
    "%matplotlib inline"
   ]
  },
  {
   "cell_type": "code",
   "execution_count": 3,
   "metadata": {},
   "outputs": [],
   "source": [
    "# suprimimos la notacion cientifica en los outputs\n",
    "pd.options.display.float_format = '{:20,.2f}'.format\n",
    "\n",
    "labelsDF = pd.read_csv('train_labels.csv')\n",
    "valuesDF = pd.read_csv('train_values.csv')"
   ]
  },
  {
   "cell_type": "markdown",
   "metadata": {},
   "source": [
    "# Asignacion de datos a columnas segun enunciado"
   ]
  },
  {
   "cell_type": "code",
   "execution_count": 4,
   "metadata": {},
   "outputs": [],
   "source": [
    "valuesProcessed = valuesDF\n",
    "valuesProcessed[\"land_surface_condition\"]               = valuesProcessed[\"land_surface_condition\"].astype(\"category\")\n",
    "valuesProcessed[\"foundation_type\"]                      = valuesProcessed[\"foundation_type\"].astype(\"category\")\n",
    "valuesProcessed[\"roof_type\"]                            = valuesProcessed[\"roof_type\"].astype(\"category\")\n",
    "valuesProcessed[\"ground_floor_type\"]                    = valuesProcessed[\"ground_floor_type\"].astype(\"category\")\n",
    "valuesProcessed[\"other_floor_type\"]                     = valuesProcessed[\"other_floor_type\"].astype(\"category\")\n",
    "valuesProcessed[\"position\"]                             = valuesProcessed[\"position\"].astype(\"category\")\n",
    "valuesProcessed[\"plan_configuration\"]                   = valuesProcessed[\"plan_configuration\"].astype(\"category\")\n",
    "valuesProcessed[\"legal_ownership_status\"]               = valuesProcessed[\"legal_ownership_status\"].astype(\"category\")\n",
    "valuesProcessed.info()"
   ]
  },
  {
   "cell_type": "markdown",
   "metadata": {},
   "source": [
    "## Chequeamos de que no hay datos invalidos\n",
    "\n",
    "Que no tengamos datos nulos y que los datos que tienen un rango de valores en el enunciado, respeten ese rango."
   ]
  },
  {
   "cell_type": "code",
   "execution_count": 9,
   "metadata": {},
   "outputs": [
    {
     "data": {
      "text/plain": [
       "260601"
      ]
     },
     "execution_count": 9,
     "metadata": {},
     "output_type": "execute_result"
    }
   ],
   "source": [
    "result = valuesProcessed['geo_level_1_id'].loc[(valuesProcessed['geo_level_1_id'] <= 30) & (valuesProcessed['geo_level_1_id'] >= 0)]\n",
    "result.count()"
   ]
  },
  {
   "cell_type": "code",
   "execution_count": 10,
   "metadata": {},
   "outputs": [
    {
     "data": {
      "text/plain": [
       "260601"
      ]
     },
     "execution_count": 10,
     "metadata": {},
     "output_type": "execute_result"
    }
   ],
   "source": [
    "result = valuesProcessed['geo_level_2_id'].loc[(valuesProcessed['geo_level_2_id'] <= 1427) & (valuesProcessed['geo_level_2_id'] >= 0)]\n",
    "result.count()"
   ]
  },
  {
   "cell_type": "code",
   "execution_count": 11,
   "metadata": {},
   "outputs": [
    {
     "data": {
      "text/plain": [
       "260601"
      ]
     },
     "execution_count": 11,
     "metadata": {},
     "output_type": "execute_result"
    }
   ],
   "source": [
    "result = valuesProcessed['geo_level_3_id'].loc[(valuesProcessed['geo_level_3_id'] <= 12567) & (valuesProcessed['geo_level_3_id'] >= 0)]\n",
    "result.count()"
   ]
  },
  {
   "cell_type": "code",
   "execution_count": 12,
   "metadata": {
    "collapsed": true
   },
   "outputs": [
    {
     "name": "stdout",
     "output_type": "stream",
     "text": [
      "<class 'pandas.core.frame.DataFrame'>\n",
      "RangeIndex: 260601 entries, 0 to 260600\n",
      "Data columns (total 39 columns):\n",
      " #   Column                                  Non-Null Count   Dtype   \n",
      "---  ------                                  --------------   -----   \n",
      " 0   building_id                             260601 non-null  int64   \n",
      " 1   geo_level_1_id                          260601 non-null  int64   \n",
      " 2   geo_level_2_id                          260601 non-null  int64   \n",
      " 3   geo_level_3_id                          260601 non-null  int64   \n",
      " 4   count_floors_pre_eq                     260601 non-null  int64   \n",
      " 5   age                                     260601 non-null  int64   \n",
      " 6   area_percentage                         260601 non-null  int64   \n",
      " 7   height_percentage                       260601 non-null  int64   \n",
      " 8   land_surface_condition                  260601 non-null  category\n",
      " 9   foundation_type                         260601 non-null  category\n",
      " 10  roof_type                               260601 non-null  category\n",
      " 11  ground_floor_type                       260601 non-null  category\n",
      " 12  other_floor_type                        260601 non-null  category\n",
      " 13  position                                260601 non-null  category\n",
      " 14  plan_configuration                      260601 non-null  category\n",
      " 15  has_superstructure_adobe_mud            260601 non-null  int64   \n",
      " 16  has_superstructure_mud_mortar_stone     260601 non-null  int64   \n",
      " 17  has_superstructure_stone_flag           260601 non-null  int64   \n",
      " 18  has_superstructure_cement_mortar_stone  260601 non-null  int64   \n",
      " 19  has_superstructure_mud_mortar_brick     260601 non-null  int64   \n",
      " 20  has_superstructure_cement_mortar_brick  260601 non-null  int64   \n",
      " 21  has_superstructure_timber               260601 non-null  int64   \n",
      " 22  has_superstructure_bamboo               260601 non-null  int64   \n",
      " 23  has_superstructure_rc_non_engineered    260601 non-null  int64   \n",
      " 24  has_superstructure_rc_engineered        260601 non-null  int64   \n",
      " 25  has_superstructure_other                260601 non-null  int64   \n",
      " 26  legal_ownership_status                  260601 non-null  category\n",
      " 27  count_families                          260601 non-null  int64   \n",
      " 28  has_secondary_use                       260601 non-null  int64   \n",
      " 29  has_secondary_use_agriculture           260601 non-null  int64   \n",
      " 30  has_secondary_use_hotel                 260601 non-null  int64   \n",
      " 31  has_secondary_use_rental                260601 non-null  int64   \n",
      " 32  has_secondary_use_institution           260601 non-null  int64   \n",
      " 33  has_secondary_use_school                260601 non-null  int64   \n",
      " 34  has_secondary_use_industry              260601 non-null  int64   \n",
      " 35  has_secondary_use_health_post           260601 non-null  int64   \n",
      " 36  has_secondary_use_gov_office            260601 non-null  int64   \n",
      " 37  has_secondary_use_use_police            260601 non-null  int64   \n",
      " 38  has_secondary_use_other                 260601 non-null  int64   \n",
      "dtypes: category(8), int64(31)\n",
      "memory usage: 63.6 MB\n"
     ]
    }
   ],
   "source": [
    "valuesProcessed.info()"
   ]
  },
  {
   "cell_type": "code",
   "execution_count": 14,
   "metadata": {
    "collapsed": true
   },
   "outputs": [
    {
     "name": "stdout",
     "output_type": "stream",
     "text": [
      "<class 'pandas.core.frame.DataFrame'>\n",
      "RangeIndex: 260601 entries, 0 to 260600\n",
      "Data columns (total 2 columns):\n",
      " #   Column        Non-Null Count   Dtype\n",
      "---  ------        --------------   -----\n",
      " 0   building_id   260601 non-null  int64\n",
      " 1   damage_grade  260601 non-null  int64\n",
      "dtypes: int64(2)\n",
      "memory usage: 4.0 MB\n"
     ]
    }
   ],
   "source": [
    "labelsDF.info()"
   ]
  },
  {
   "cell_type": "code",
   "execution_count": 15,
   "metadata": {
    "collapsed": true
   },
   "outputs": [
    {
     "data": {
      "text/plain": [
       "t    216757\n",
       "n     35528\n",
       "o      8316\n",
       "Name: land_surface_condition, dtype: int64"
      ]
     },
     "execution_count": 15,
     "metadata": {},
     "output_type": "execute_result"
    }
   ],
   "source": [
    "valuesProcessed['land_surface_condition'].value_counts()"
   ]
  },
  {
   "cell_type": "code",
   "execution_count": 16,
   "metadata": {
    "collapsed": true
   },
   "outputs": [
    {
     "data": {
      "text/plain": [
       "r    219196\n",
       "w     15118\n",
       "u     14260\n",
       "i     10579\n",
       "h      1448\n",
       "Name: foundation_type, dtype: int64"
      ]
     },
     "execution_count": 16,
     "metadata": {},
     "output_type": "execute_result"
    }
   ],
   "source": [
    "valuesProcessed['foundation_type'].value_counts()"
   ]
  },
  {
   "cell_type": "code",
   "execution_count": 17,
   "metadata": {
    "collapsed": true
   },
   "outputs": [
    {
     "data": {
      "text/plain": [
       "n    182842\n",
       "q     61576\n",
       "x     16183\n",
       "Name: roof_type, dtype: int64"
      ]
     },
     "execution_count": 17,
     "metadata": {},
     "output_type": "execute_result"
    }
   ],
   "source": [
    "valuesProcessed['roof_type'].value_counts()"
   ]
  },
  {
   "cell_type": "code",
   "execution_count": 18,
   "metadata": {
    "collapsed": true
   },
   "outputs": [
    {
     "data": {
      "text/plain": [
       "f    209619\n",
       "x     24877\n",
       "v     24593\n",
       "z      1004\n",
       "m       508\n",
       "Name: ground_floor_type, dtype: int64"
      ]
     },
     "execution_count": 18,
     "metadata": {},
     "output_type": "execute_result"
    }
   ],
   "source": [
    "valuesProcessed['ground_floor_type'].value_counts()"
   ]
  },
  {
   "cell_type": "code",
   "execution_count": 19,
   "metadata": {
    "collapsed": true
   },
   "outputs": [
    {
     "data": {
      "text/plain": [
       "q    165282\n",
       "x     43448\n",
       "j     39843\n",
       "s     12028\n",
       "Name: other_floor_type, dtype: int64"
      ]
     },
     "execution_count": 19,
     "metadata": {},
     "output_type": "execute_result"
    }
   ],
   "source": [
    "valuesProcessed['other_floor_type'].value_counts()"
   ]
  },
  {
   "cell_type": "code",
   "execution_count": 20,
   "metadata": {
    "collapsed": true
   },
   "outputs": [
    {
     "data": {
      "text/plain": [
       "s    202090\n",
       "t     42896\n",
       "j     13282\n",
       "o      2333\n",
       "Name: position, dtype: int64"
      ]
     },
     "execution_count": 20,
     "metadata": {},
     "output_type": "execute_result"
    }
   ],
   "source": [
    "valuesProcessed['position'].value_counts()"
   ]
  },
  {
   "cell_type": "code",
   "execution_count": 21,
   "metadata": {
    "collapsed": true
   },
   "outputs": [
    {
     "data": {
      "text/plain": [
       "d    250072\n",
       "q      5692\n",
       "u      3649\n",
       "s       346\n",
       "c       325\n",
       "a       252\n",
       "o       159\n",
       "m        46\n",
       "n        38\n",
       "f        22\n",
       "Name: plan_configuration, dtype: int64"
      ]
     },
     "execution_count": 21,
     "metadata": {},
     "output_type": "execute_result"
    }
   ],
   "source": [
    "valuesProcessed['plan_configuration'].value_counts()"
   ]
  },
  {
   "cell_type": "code",
   "execution_count": 23,
   "metadata": {
    "collapsed": true
   },
   "outputs": [
    {
     "data": {
      "text/plain": [
       "v    250939\n",
       "a      5512\n",
       "w      2677\n",
       "r      1473\n",
       "Name: legal_ownership_status, dtype: int64"
      ]
     },
     "execution_count": 23,
     "metadata": {},
     "output_type": "execute_result"
    }
   ],
   "source": [
    "valuesProcessed['legal_ownership_status'].value_counts()"
   ]
  },
  {
   "cell_type": "markdown",
   "metadata": {},
   "source": [
    "# Analisis exploratorio"
   ]
  },
  {
   "cell_type": "markdown",
   "metadata": {},
   "source": [
    "## Uso de edificios\n",
    "\n",
    "Vamos a analizar, separando por los distintos usos que tiene un edificio, la cantidad de edificios que sufrieron daño. Primero comenzaremos separando por los que tienen uso secundario y los que no."
   ]
  },
  {
   "cell_type": "code",
   "execution_count": 26,
   "metadata": {},
   "outputs": [],
   "source": [
    "usoDeEdificios = valuesProcessed.loc[:,['building_id', 'has_secondary_use']]\n",
    "\n",
    "#Hago un merge left por si hay algun edificio que no haya sufrido daño alguno\n",
    "usoDeEdificiosMerged = usoDeEdificios.merge(labelsDF, how='left', on='building_id')\n",
    "\n",
    "# Saco el building_id porque para este caso ya no me sirve.\n",
    "dfShort = usoDeEdificiosMerged.loc[:,['has_secondary_use','damage_grade']]\n",
    "dfShort['house'] = dfShort.loc[:,['has_secondary_use']].any(1)\n",
    "dfShort['house'].replace({False: 1, True: 0}, inplace=True)\n",
    "dfShort = dfShort.loc[:,['house', 'has_secondary_use', 'damage_grade']]\n",
    "dfShort.columns = ['Vivienda', 'Uso secundario', 'damage']\n",
    "dfShort['use'] = dfShort.apply(lambda x: x[x == 1].index[0], axis=1)\n",
    "dfShort = dfShort.loc[:,['use', 'damage']]\n",
    "\n",
    "damageDF = dfShort.set_index('use')\n",
    "damageDFPivot = damageDF.pivot_table(index='use', columns=['damage'], aggfunc='size')\n",
    "damageDFPivot.columns = ['Daños leves','Daños medios','Daños graves']\n",
    "damageDFPivot.to_csv('danio_por_uso.csv')"
   ]
  },
  {
   "cell_type": "markdown",
   "metadata": {},
   "source": [
    "### Uso secundario de edificios\n",
    "\n",
    "Como hay mucha diferencia en la cantidad de edificios que son viviendas respecto de la cantidad que tiene cada uso secundario. Hacemos un análisis análogo para cada tipo de uso secundario."
   ]
  },
  {
   "cell_type": "code",
   "execution_count": 28,
   "metadata": {},
   "outputs": [],
   "source": [
    "usoSecundarioDeEdificios = valuesProcessed.loc[valuesProcessed['has_secondary_use'] == 1,['building_id', 'has_secondary_use_agriculture', 'has_secondary_use_hotel', 'has_secondary_use_rental', 'has_secondary_use_institution', 'has_secondary_use_school', 'has_secondary_use_industry', 'has_secondary_use_health_post', 'has_secondary_use_gov_office', 'has_secondary_use_use_police', 'has_secondary_use_other']]\n",
    "# emprolijo los nombres de las columnas de uso secundario.\n",
    "def renameSecondaryCols(cols):\n",
    "    colsList = []\n",
    "    for col in cols:\n",
    "        if col == cols[0]:\n",
    "            colsList.append(col)\n",
    "            continue\n",
    "        else: \n",
    "            colsList.append(col.split('_')[len(col.split('_')) - 1])\n",
    "    return colsList\n",
    "usoSecundarioDeEdificios.columns = renameSecondaryCols(usoSecundarioDeEdificios.columns)\n",
    "#Hago un merge left por si hay algun edificio que no haya sufrido daño alguno\n",
    "usoSecundarioMerged = usoSecundarioDeEdificios.merge(labelsDF, how='left', on='building_id')\n",
    "usoSecundarioMerged = usoSecundarioMerged.drop(columns=['building_id'])\n",
    "usoSecundarioMerged['use'] = usoSecundarioMerged.apply(lambda x: x[x == 1].index[0], axis=1)\n",
    "\n",
    "dfSecShort = usoSecundarioMerged.loc[:,['use', 'damage_grade']]\n",
    "damageSecDF = dfSecShort.set_index('use')\n",
    "damageSecDFPivot = damageSecDF.pivot_table(index='use', columns=['damage_grade'], aggfunc='size')\n",
    "damageSecDFPivot.columns = ['Daños leves','Daños medios','Daños graves']\n",
    "damageSecDFPivot.to_csv('danio_por_uso_sec.csv')"
   ]
  },
  {
   "cell_type": "markdown",
   "metadata": {},
   "source": [
    "#### Agregamos familias\n",
    "\n",
    "Ahora hacemos un análisis similar al anterior pero teniendo en cuenta la cantidad de familias que vivían en cada edificio."
   ]
  },
  {
   "cell_type": "code",
   "execution_count": 29,
   "metadata": {},
   "outputs": [],
   "source": [
    "familiasYuso = valuesProcessed.loc[:,['building_id', 'has_secondary_use', 'has_secondary_use_agriculture', 'has_secondary_use_hotel', 'has_secondary_use_rental', 'has_secondary_use_institution', 'has_secondary_use_school', 'has_secondary_use_industry', 'has_secondary_use_health_post', 'has_secondary_use_gov_office', 'has_secondary_use_use_police', 'has_secondary_use_other', 'count_families']]"
   ]
  },
  {
   "cell_type": "code",
   "execution_count": 30,
   "metadata": {},
   "outputs": [
    {
     "data": {
      "text/plain": [
       "316901"
      ]
     },
     "execution_count": 30,
     "metadata": {},
     "output_type": "execute_result"
    }
   ],
   "source": [
    "familiasYuso.loc[(familiasYuso['count_families'] != 0) & (familiasYuso['has_secondary_use'] != 0)].size"
   ]
  },
  {
   "cell_type": "code",
   "execution_count": 31,
   "metadata": {},
   "outputs": [
    {
     "data": {
      "text/plain": [
       "209079"
      ]
     },
     "execution_count": 31,
     "metadata": {},
     "output_type": "execute_result"
    }
   ],
   "source": [
    "familiasYuso.loc[(familiasYuso['count_families'] == 0) & (familiasYuso['has_secondary_use'] == 0)].size"
   ]
  },
  {
   "cell_type": "markdown",
   "metadata": {},
   "source": [
    "Podemos ver que en nuestros datos tenemos tanto edificios de uso secundario que tenían familias viviendo en ellos, como viviendas en las cuales no habia nadie viviendo allí (posiblemente abandonadas)"
   ]
  },
  {
   "cell_type": "code",
   "execution_count": 33,
   "metadata": {},
   "outputs": [],
   "source": [
    "#Hago un merge left por si hay algun edificio que no haya sufrido daño alguno\n",
    "familiasYusoMerged = familiasYuso.merge(labelsDF, how='left', on='building_id')\n",
    "# Saco el building_id porque para este caso ya no me sirve.\n",
    "dfFamShort = familiasYusoMerged.loc[:,['has_secondary_use', 'has_secondary_use_agriculture', 'has_secondary_use_hotel', 'has_secondary_use_rental', 'has_secondary_use_institution', 'has_secondary_use_school', 'has_secondary_use_industry', 'has_secondary_use_health_post', 'has_secondary_use_gov_office', 'has_secondary_use_use_police', 'has_secondary_use_other', 'count_families', 'damage_grade']]\n",
    "dfFamShort['house'] = dfFamShort.loc[:,['has_secondary_use']].any(1)\n",
    "dfFamShort['house'].replace({False: 1, True: 0}, inplace=True)\n",
    "dfFamShort = dfFamShort.loc[:,['house', 'has_secondary_use_agriculture', 'has_secondary_use_hotel', 'has_secondary_use_rental', 'has_secondary_use_institution', 'has_secondary_use_school', 'has_secondary_use_industry', 'has_secondary_use_health_post', 'has_secondary_use_gov_office', 'has_secondary_use_use_police', 'has_secondary_use_other', 'count_families', 'damage_grade']]\n",
    "# Emprolijo los nombres de las columnas\n",
    "def renameFamilieCols(cols):\n",
    "    colsList = []\n",
    "    for col in cols:\n",
    "        if col == 'house':\n",
    "            colsList.append('vivienda')\n",
    "            continue\n",
    "        elif col == 'damage_grade':\n",
    "            colsList.append('damage')\n",
    "        else: \n",
    "            colsList.append(col.split('_')[len(col.split('_')) - 1])\n",
    "    return colsList\n",
    "dfFamShort.columns = renameFamilieCols(dfFamShort.columns)\n",
    "dfFamShort['use'] = dfFamShort.apply(lambda x: x[x == 1].index[0], axis=1)\n",
    "famDamageDF = dfFamShort.loc[:,['use','families', 'damage']]\n",
    "famDamageDF.loc[:,['use','families','damage']].groupby(['use','damage']).sum().to_csv('families_damage.csv')"
   ]
  },
  {
   "cell_type": "markdown",
   "metadata": {},
   "source": [
    "## Cantidad de familias\n",
    "\n",
    "Analizamos si la cantidad de familias que viven en las edificaciones influye de alguna manera en el grado de daño que sufrieron."
   ]
  },
  {
   "cell_type": "code",
   "execution_count": null,
   "metadata": {},
   "outputs": [],
   "source": [
    "joinedDF = valuesProcessed.merge(labelsDF, on='building_id')\n",
    "joinedDF.value_counts('count_families')\n",
    "familiesDF = joinedDF.loc[join['count_families'] < 6,['count_families','damage_grade']].groupby('count_families').mean()\n",
    "familiesDF.to_csv('count_families_damage.csv')"
   ]
  },
  {
   "cell_type": "markdown",
   "metadata": {},
   "source": [
    "## Edificación (diseño sísimico y materiales)\n",
    "\n",
    "Analizamos el promedio de daño en las edificaciones, separándolas por una combinación entre el diseño sísimico y los materiales utilizados en su construcción."
   ]
  },
  {
   "cell_type": "code",
   "execution_count": 36,
   "metadata": {},
   "outputs": [],
   "source": [
    "edificacion = valuesProcessed.loc[:,['building_id','plan_configuration', 'has_superstructure_adobe_mud', 'has_superstructure_mud_mortar_stone', 'has_superstructure_stone_flag', 'has_superstructure_cement_mortar_stone', 'has_superstructure_mud_mortar_brick', 'has_superstructure_cement_mortar_brick', 'has_superstructure_timber', 'has_superstructure_bamboo', 'has_superstructure_rc_non_engineered', 'has_superstructure_rc_engineered', 'has_superstructure_other']]\n",
    "# Emprolijo los nombres de las columnas\n",
    "def renameEdificacionCols(cols):\n",
    "    colsList = []\n",
    "    for col in cols:\n",
    "        col.replace('has_superstructure_', '')\n",
    "        colsList.append(col.replace('has_superstructure_', ''))\n",
    "    return colsList\n",
    "edificacion.columns = renameEdificacionCols(edificacion.columns)\n",
    "\n",
    "#Hago merge left para quedarme con los que esten intactos.\n",
    "materialDamage = edificacion.merge(labelsDF, how='left', on='building_id')\n",
    "damagexMat = materialDamage.drop(columns='building_id')\n",
    "\n",
    "# Me creo otro DF para poder hacer la operación de manera más simple.\n",
    "# En esta voy a tener la cantidad total de edificios de cada uno.\n",
    "materialesPorPlan = damagexMat.groupby(['plan_configuration']).sum()\n",
    "# Ahora voy a tener en cada celda, el promedio de daño.\n",
    "meanDamage = damagexMat.groupby(['plan_configuration','damage_grade']).sum().fillna(value=0)\n",
    "meanDamage = meanDamage.reset_index().set_index('plan_configuration')\n",
    "meanDamage['adobe_mud']           = (meanDamage['damage_grade'] * meanDamage['adobe_mud']) / materialesPorPlan['adobe_mud']\n",
    "meanDamage['mud_mortar_stone']    = (meanDamage['damage_grade'] * meanDamage['mud_mortar_stone']) / materialesPorPlan['mud_mortar_stone']\n",
    "meanDamage['stone_flag']          = (meanDamage['damage_grade'] * meanDamage['stone_flag']) / materialesPorPlan['stone_flag']\n",
    "meanDamage['cement_mortar_stone'] = (meanDamage['damage_grade'] * meanDamage['cement_mortar_stone']) / materialesPorPlan['cement_mortar_stone']\n",
    "meanDamage['mud_mortar_brick']    = (meanDamage['damage_grade'] * meanDamage['mud_mortar_brick']) / materialesPorPlan['mud_mortar_brick']\n",
    "meanDamage['cement_mortar_brick'] = (meanDamage['damage_grade'] * meanDamage['cement_mortar_brick']) / materialesPorPlan['cement_mortar_brick']\n",
    "meanDamage['timber']              = (meanDamage['damage_grade'] * meanDamage['timber']) / materialesPorPlan['timber']\n",
    "meanDamage['bamboo']              = (meanDamage['damage_grade'] * meanDamage['bamboo']) / materialesPorPlan['bamboo']\n",
    "meanDamage['rc_non_engineered']   = (meanDamage['damage_grade'] * meanDamage['rc_non_engineered']) / materialesPorPlan['rc_non_engineered']\n",
    "meanDamage['rc_engineered']       = (meanDamage['damage_grade'] * meanDamage['rc_engineered']) / materialesPorPlan['rc_engineered']\n",
    "meanDamage['other']               = (meanDamage['damage_grade'] * meanDamage['other']) / materialesPorPlan['other']\n",
    "meanDamage = meanDamage.reset_index().groupby('plan_configuration').sum().drop(columns=['damage_grade'])\n",
    "meanDamage.columns = ['Adobe/Barro','Barro-Piedra','Piedra','Cemento-Piedra','Barro-Ladrillos','Cemento-Ladrillos','Madera','Bambú','Concreto reforzado no diseñado','Concreto reforzado diseñado','Otro']\n",
    "meanDamage.to_csv('mean_damage.csv')"
   ]
  },
  {
   "cell_type": "markdown",
   "metadata": {},
   "source": [
    "## Ubicación greográfica\n",
    "\n",
    "Tomando algunas consideraciones que serán mencionadas en el informe, vamos a analizar el daño por región para poder concluir cuál fue el epicentro del terremoto."
   ]
  },
  {
   "cell_type": "code",
   "execution_count": null,
   "metadata": {},
   "outputs": [],
   "source": [
    "geoLoc = valuesProcessed.loc[:,['building_id','geo_level_1_id','geo_level_2_id','geo_level_3_id']]\n",
    "geoLoc['geo_id'] = geoLoc['geo_level_1_id'].astype(str).str.zfill(2) + '-' + geoLoc['geo_level_2_id'].astype(str).str.zfill(4) + '-' + geoLoc['geo_level_3_id'].astype(str).str.zfill(5)\n",
    "\n",
    "geoLocToMerge = geoLoc.loc[:,['building_id','geo_id']]\n",
    "#Hago un merge left por si hay algun edificio que no haya sufrido daño alguno\n",
    "geoDamage = geoLocToMerge.merge(labelsDF, how='left', on='building_id').loc[:,['geo_id','damage_grade']]\n",
    "geoDamage.groupby(['geo_id']).agg({'damage_grade':'mean'}).to_csv('geo_damage.csv')"
   ]
  },
  {
   "cell_type": "markdown",
   "metadata": {},
   "source": [
    "Ahora haremos un análisis más dedicado a las regiones"
   ]
  },
  {
   "cell_type": "markdown",
   "metadata": {},
   "source": [
    "### Análisis de las distintas regiones"
   ]
  },
  {
   "cell_type": "code",
   "execution_count": 39,
   "metadata": {},
   "outputs": [],
   "source": [
    "analisisDeRegiones = valuesProcessed.loc[:,['building_id','geo_level_1_id','geo_level_2_id','geo_level_3_id','age','area_percentage','height_percentage','count_families','count_floors_pre_eq']]\n",
    "analisisDeRegiones = analisisDeRegiones.merge(labelsDF)"
   ]
  },
  {
   "cell_type": "markdown",
   "metadata": {},
   "source": [
    "Vamos a analizar los dos extremos de daños (grado 1 y 3) para cada nivel de región."
   ]
  },
  {
   "cell_type": "markdown",
   "metadata": {},
   "source": [
    "#### Promedios por region lvl1"
   ]
  },
  {
   "cell_type": "code",
   "execution_count": 44,
   "metadata": {},
   "outputs": [],
   "source": [
    "promediosPorRegionlvl1 = analisisDeRegiones.groupby('geo_level_1_id').agg({'age':'mean','area_percentage':'mean','height_percentage':'mean','count_families':'mean','count_floors_pre_eq':'mean'})\n",
    "promediosPorRegionlvl1.columns = ['age_mean','area_percentage_mean','height_percentage_mean','count_families_mean','count_floors_pre_eq_mean']\n",
    "\n",
    "promediosPorRegionLvl1YDamageGrade3 = analisisDeRegiones.loc[analisisDeRegiones.damage_grade == 3,:].groupby('geo_level_1_id').agg({'age':'mean','area_percentage':'mean','height_percentage':'mean','count_families':'mean','count_floors_pre_eq':'mean'})\n",
    "promediosPorRegionLvl1YDamageGrade3.columns = ['age_mean','area_percentage_mean','height_percentage_mean','count_families_mean','count_floors_pre_eq_mean']\n",
    "\n",
    "promediosPorRegionLvl1YDamageGrade1 = analisisDeRegiones.loc[analisisDeRegiones.damage_grade == 1,:].groupby('geo_level_1_id').agg({'age':'mean','area_percentage':'mean','height_percentage':'mean','count_families':'mean','count_floors_pre_eq':'mean'})\n",
    "promediosPorRegionLvl1YDamageGrade1.columns = ['age_mean','area_percentage_mean','height_percentage_mean','count_families_mean','count_floors_pre_eq_mean']"
   ]
  },
  {
   "cell_type": "markdown",
   "metadata": {},
   "source": [
    "#### Promedios por region lvl2"
   ]
  },
  {
   "cell_type": "code",
   "execution_count": 45,
   "metadata": {},
   "outputs": [],
   "source": [
    "promediosPorRegionlvl2 = analisisDeRegiones.groupby('geo_level_2_id').agg({'age':'mean','area_percentage':'mean','height_percentage':'mean','count_families':'mean','count_floors_pre_eq':'mean'})\n",
    "promediosPorRegionlvl2.columns = ['age_mean','area_percentage_mean','height_percentage_mean','count_families_mean','count_floors_pre_eq_mean']\n",
    "\n",
    "promediosPorRegionLvl2YDamageGrade3 = analisisDeRegiones.loc[analisisDeRegiones.damage_grade == 3,:].groupby('geo_level_2_id').agg({'age':'mean','area_percentage':'mean','height_percentage':'mean','count_families':'mean','count_floors_pre_eq':'mean'})\n",
    "promediosPorRegionLvl2YDamageGrade3.columns = ['age_mean','area_percentage_mean','height_percentage_mean','count_families_mean','count_floors_pre_eq_mean']\n",
    "\n",
    "promediosPorRegionLvl2YDamageGrade1 = analisisDeRegiones.loc[analisisDeRegiones.damage_grade == 1,:].groupby('geo_level_2_id').agg({'age':'mean','area_percentage':'mean','height_percentage':'mean','count_families':'mean','count_floors_pre_eq':'mean'})\n",
    "promediosPorRegionLvl2YDamageGrade1.columns = ['age_mean','area_percentage_mean','height_percentage_mean','count_families_mean','count_floors_pre_eq_mean']"
   ]
  },
  {
   "cell_type": "markdown",
   "metadata": {},
   "source": [
    "#### Promedios por region lvl3"
   ]
  },
  {
   "cell_type": "code",
   "execution_count": 47,
   "metadata": {},
   "outputs": [],
   "source": [
    "promediosPorRegionlvl3 = analisisDeRegiones.groupby('geo_level_3_id').agg({'age':'mean','area_percentage':'mean','height_percentage':'mean','count_families':'mean','count_floors_pre_eq':'mean'})\n",
    "promediosPorRegionlvl3.columns = ['age_mean','area_percentage_mean','height_percentage_mean','count_families_mean','count_floors_pre_eq_mean']\n",
    "\n",
    "promediosPorRegionLvl3YDamageGrade3 = analisisDeRegiones.loc[analisisDeRegiones.damage_grade == 3,:].groupby('geo_level_3_id').agg({'age':'mean','area_percentage':'mean','height_percentage':'mean','count_families':'mean','count_floors_pre_eq':'mean'})\n",
    "promediosPorRegionLvl3YDamageGrade3.columns = ['age_mean','area_percentage_mean','height_percentage_mean','count_families_mean','count_floors_pre_eq_mean']\n",
    "\n",
    "promediosPorRegionLvl3YDamageGrade1 = analisisDeRegiones.loc[analisisDeRegiones.damage_grade == 1,:].groupby('geo_level_3_id').agg({'age':'mean','area_percentage':'mean','height_percentage':'mean','count_families':'mean','count_floors_pre_eq':'mean'})\n",
    "promediosPorRegionLvl3YDamageGrade1.columns = ['age_mean','area_percentage_mean','height_percentage_mean','count_families_mean','count_floors_pre_eq_mean']"
   ]
  },
  {
   "cell_type": "markdown",
   "metadata": {},
   "source": [
    "#### Top 10 regiones de lvl1 con daño de grado = 3 y grado = 1"
   ]
  },
  {
   "cell_type": "code",
   "execution_count": 49,
   "metadata": {},
   "outputs": [],
   "source": [
    "regioneslvl1ConDamageGrade3 = analisisDeRegiones.loc[analisisDeRegiones.damage_grade == 3,:]\n",
    "regioneslvl1ConDamageGrade3 = regioneslvl1ConDamageGrade3.groupby('geo_level_1_id').agg({'damage_grade':'count'}).nlargest(10,'damage_grade')\n",
    "regioneslvl1ConDamageGrade3.columns = ['cant_damage_grade_3']\n",
    "\n",
    "regioneslvl1ConDamageGrade1 = analisisDeRegiones.loc[analisisDeRegiones.damage_grade == 1,:]\n",
    "regioneslvl1ConDamageGrade1 = regioneslvl1ConDamageGrade1.groupby('geo_level_1_id').agg({'damage_grade':'count'}).nlargest(10,'damage_grade')\n",
    "regioneslvl1ConDamageGrade1.columns = ['cant_damage_grade_1']"
   ]
  },
  {
   "cell_type": "markdown",
   "metadata": {},
   "source": [
    "#### Top 10 regiones de lvl2 con daño de grado = 3 y grado = 1"
   ]
  },
  {
   "cell_type": "code",
   "execution_count": 50,
   "metadata": {},
   "outputs": [],
   "source": [
    "regioneslvl2ConDamageGrade3 = analisisDeRegiones.loc[analisisDeRegiones.damage_grade == 3,:]\n",
    "regioneslvl2ConDamageGrade3 = regioneslvl2ConDamageGrade3.groupby('geo_level_2_id').agg({'damage_grade':'count'}).nlargest(10,'damage_grade')\n",
    "regioneslvl2ConDamageGrade3.columns = ['cant_damage_grade_3']\n",
    "\n",
    "regioneslvl2ConDamageGrade1 = analisisDeRegiones.loc[analisisDeRegiones.damage_grade == 1,:]\n",
    "regioneslvl2ConDamageGrade1 = regioneslvl2ConDamageGrade1.groupby('geo_level_2_id').agg({'damage_grade':'count'}).nlargest(10,'damage_grade')\n",
    "regioneslvl2ConDamageGrade1.columns = ['cant_damage_grade_1']"
   ]
  },
  {
   "cell_type": "markdown",
   "metadata": {},
   "source": [
    "#### Top 10 regiones de lvl3 con daño de grado = 3 y grado = 1"
   ]
  },
  {
   "cell_type": "code",
   "execution_count": 51,
   "metadata": {},
   "outputs": [],
   "source": [
    "regioneslvl3ConDamageGrade3 = analisisDeRegiones.loc[analisisDeRegiones.damage_grade == 3,:]\n",
    "regioneslvl3ConDamageGrade3 = regioneslvl3ConDamageGrade3.groupby('geo_level_3_id').agg({'damage_grade':'count'}).nlargest(10,'damage_grade')\n",
    "regioneslvl3ConDamageGrade3.columns = ['cant_damage_grade_3']\n",
    "\n",
    "regioneslvl3ConDamageGrade1 = analisisDeRegiones.loc[analisisDeRegiones.damage_grade == 1,:]\n",
    "regioneslvl3ConDamageGrade1 = regioneslvl3ConDamageGrade1.groupby('geo_level_3_id').agg({'damage_grade':'count'}).nlargest(10,'damage_grade')\n",
    "regioneslvl3ConDamageGrade1.columns = ['cant_damage_grade_1']"
   ]
  },
  {
   "cell_type": "markdown",
   "metadata": {},
   "source": [
    "##### Estadísiticas para cada region de cada lvl con mayor cantidad de ocurrencias de daño de grado 3"
   ]
  },
  {
   "cell_type": "code",
   "execution_count": 52,
   "metadata": {},
   "outputs": [],
   "source": [
    "estadisticasRegionesConMasDamageGrade3 = regioneslvl1ConDamageGrade3.nlargest(1,'cant_damage_grade_3').join(promediosPorRegionlvl1).reset_index()\n",
    "estadisticasRegionesConMasDamageGrade3 = estadisticasRegionesConMasDamageGrade3.append(regioneslvl2ConDamageGrade3.nlargest(1,'cant_damage_grade_3').join(promediosPorRegionlvl2).reset_index())\n",
    "estadisticasRegionesConMasDamageGrade3 = estadisticasRegionesConMasDamageGrade3.append(regioneslvl3ConDamageGrade3.nlargest(1,'cant_damage_grade_3').join(promediosPorRegionlvl3).reset_index())\n",
    "estadisticasRegionesConMasDamageGrade3['id'] = ['Geo_level_1 = 17','Geo_level_2 = 363','Geo_level_3 = 8236']"
   ]
  },
  {
   "cell_type": "markdown",
   "metadata": {},
   "source": [
    "##### Estadísiticas para cada region de cada lvl con mayor cantidad de ocurrencias de daño de grado 1"
   ]
  },
  {
   "cell_type": "code",
   "execution_count": 53,
   "metadata": {},
   "outputs": [],
   "source": [
    "estadisticasRegionesConMasDamageGrade1 = regioneslvl1ConDamageGrade1.nlargest(1,'cant_damage_grade_1').join(promediosPorRegionlvl1).reset_index()\n",
    "estadisticasRegionesConMasDamageGrade1 = estadisticasRegionesConMasDamageGrade1.append(regioneslvl2ConDamageGrade1.nlargest(1,'cant_damage_grade_1').join(promediosPorRegionlvl2).reset_index())\n",
    "estadisticasRegionesConMasDamageGrade1 = estadisticasRegionesConMasDamageGrade1.append(regioneslvl3ConDamageGrade1.nlargest(1,'cant_damage_grade_1').join(promediosPorRegionlvl3).reset_index())\n",
    "estadisticasRegionesConMasDamageGrade1['id'] = ['Geo_level_1 = 26','Geo_level_2 = 39','Geo_level_3 = 9133']"
   ]
  },
  {
   "cell_type": "markdown",
   "metadata": {},
   "source": [
    "## Antigüedad de las edificaciones"
   ]
  },
  {
   "cell_type": "code",
   "execution_count": 11,
   "metadata": {},
   "outputs": [],
   "source": [
    "age = valuesProcessed.loc[:, ['building_id', 'age']]\n",
    "agedmg = age.merge(labelsDF, on='building_id', how='inner')\n",
    "agedmg['id'] = 1\n",
    "agedmg = agedmg.drop(columns=['building_id'])"
   ]
  },
  {
   "cell_type": "code",
   "execution_count": 12,
   "metadata": {
    "scrolled": true
   },
   "outputs": [],
   "source": [
    "agedmg = agedmg.set_index('age')\n",
    "agedmgavg = agedmg.groupby(['age']).agg({'id': 'sum', 'damage_grade':'mean'})\n",
    "agedmgavg = agedmgavg.rename(columns={'id': 'building_count'})"
   ]
  },
  {
   "cell_type": "markdown",
   "metadata": {},
   "source": [
    "## Análisis de altura y materiales en función de la destrucción\n",
    "\n",
    "Primero, queremos ver de qué me sirve la altura y el porcentaje del área. Por lo que queremos ver si la cantidad de pisos y el porcentaje de altura tienen alguna relación."
   ]
  },
  {
   "cell_type": "code",
   "execution_count": null,
   "metadata": {},
   "outputs": [],
   "source": [
    "labelsDF\n",
    "valuesDF[[\"height_percentage\", \"count_floors_pre_eq\"]].head(10)"
   ]
  },
  {
   "cell_type": "markdown",
   "metadata": {},
   "source": [
    "Podemos ver de entrada que no parece haber mucha relación entre ambos. Tomaremos la cantidad de pisos como indicador real de la altura del edifico. Ahora, veremos el porcentaje de destrucción para las distintas alturas."
   ]
  },
  {
   "cell_type": "code",
   "execution_count": null,
   "metadata": {},
   "outputs": [],
   "source": [
    "height_only = valuesDF[[\"building_id\", \"count_floors_pre_eq\"]].merge(labelsDF, on=\"building_id\")\n",
    "height_only[[\"count_floors_pre_eq\", \"damage_grade\"]].groupby(\"count_floors_pre_eq\").count()"
   ]
  },
  {
   "cell_type": "markdown",
   "metadata": {},
   "source": [
    "Tomaremos sólo los que tienen más de 200 valores para el calculo, es decir desde el piso 1 al 6. También es útil ver la cantidad de edificios."
   ]
  },
  {
   "cell_type": "code",
   "execution_count": null,
   "metadata": {},
   "outputs": [],
   "source": [
    "#height_only_filtered = height_only[height_only[\"count_floors_pre_eq\"] < 7]\n",
    "damage_per_height = height_only[[\"count_floors_pre_eq\", \"damage_grade\"]].groupby(\"count_floors_pre_eq\").count().reset_index()\n",
    "damage_per_height.columns = [\"cantidad de pisos\", \"cantidad de edificios\"]\n",
    "damage_per_height"
   ]
  },
  {
   "cell_type": "code",
   "execution_count": null,
   "metadata": {},
   "outputs": [],
   "source": [
    "damage_per_height.set_index(\"count_floors_pre_eq\").plot.bar(label= \"Promedio de daño por altura\")\n",
    "damage_per_height.set_index(\"count_floors_pre_eq\").to_csv(\"alturas_simple.csv\")"
   ]
  },
  {
   "cell_type": "markdown",
   "metadata": {},
   "source": [
    "Uno creeria que la altura seria un factor importante en la estabilidad de un edificio. Sin embargo, se puede ver en los números que el mayor porcentaje de destrucción es en los edificios de 3 pisos y disminuye en las siguientes alturas. Nuestra teoría es que es posible hacer edificios de pocos pisos de forma precaria, pero es necesario una mayor inversión y por lo tanto una mayor planificación para hacer edificios de mayor altura.\n",
    "\n",
    "Para nuestro próximo análisis, veremos si para los mismos materiales de construcción hay una variación en el promedio de daño por altura. Ya que si bien como se vió en el análisis anterior la altura no es un factor que pueda permitir predecir el daño por si misma, quizas es posible construir una tabla o factor de destrucción para los materiales en función de la altura. Intentaremos darle un factor a cada uno de los distintos campos (ground_floor_tpye, other_floor_type, superstructure, land_surface_condition) intentaremos luego combinar estos resultado intentando tener en cuenta que tanto influyen en el factor de destrucción y qué importancia tienen."
   ]
  },
  {
   "cell_type": "code",
   "execution_count": null,
   "metadata": {},
   "outputs": [],
   "source": [
    "height_ground_floor = valuesDF[[\"building_id\", \"count_floors_pre_eq\", \"ground_floor_type\"]].merge(labelsDF, on=\"building_id\")\n",
    "height_ground_floor = height_ground_floor.set_index(\"building_id\")\n",
    "height_ground_floor = height_ground_floor[height_ground_floor[\"count_floors_pre_eq\"] < 7]\n",
    "ground_floor_type_count =  height_ground_floor.groupby([\"ground_floor_type\", \"count_floors_pre_eq\"]).agg({\"damage_grade\": [\"count\", \"mean\", \"std\"]})\n",
    "ground_floor_type_count"
   ]
  },
  {
   "cell_type": "markdown",
   "metadata": {},
   "source": [
    "Posibles gráficos: utilización para cada material en edificios de distintos pisos. Por material, el nivel de destrucción por altura, atención al std porque indica qué tanto varía el resultado de la destrucción, indicaría en un principio qué valor es el más influyente.\n",
    "\n",
    "Conclusiones, al menos en este campo se respeta una estructura similar al de las alturas comunes. Se tiene un mayor porcentaje de daño."
   ]
  },
  {
   "cell_type": "code",
   "execution_count": null,
   "metadata": {},
   "outputs": [],
   "source": [
    "usefull_attributes = [\"land_surface_condition\", \"foundation_type\", \"ground_floor_type\", \"other_floor_type\"]\n",
    "results_height = {}\n",
    "for elem in usefull_attributes:\n",
    "    height_foundation_type  = valuesDF[[\"building_id\", \"count_floors_pre_eq\", elem]].merge(labelsDF, on=\"building_id\")\n",
    "    height_foundation_type = height_foundation_type.set_index(\"building_id\")\n",
    "    height_foundation_type = height_foundation_type[height_foundation_type[\"count_floors_pre_eq\"] < 7]\n",
    "    height_foundation_type =  height_foundation_type.groupby([elem, \"count_floors_pre_eq\"]).agg({\"damage_grade\": [\"count\", \"mean\", \"std\"]})\n",
    "   # height_foundation_type =  height_foundation_type.groupby([elem, \"count_floors_pre_eq\"]).agg({\"damage_grade\": \"mean\"}).reset_index()\n",
    "    height_foundation_type.columns = [elem, \"Pisos\", \"Daño promedio\"]\n",
    "    #height_foundation_type = height_foundation_type.pivot_table(height_foundation_type, index =elem, columns=\"Pisos\")\n",
    "    results_height[elem] = height_foundation_type\n",
    "\n",
    "results_height[\"land_surface_condition\"]"
   ]
  },
  {
   "cell_type": "code",
   "execution_count": null,
   "metadata": {},
   "outputs": [],
   "source": [
    "for key in results_height:\n",
    "    results_height[key].to_csv(\"graficosLopez/\" + key + \"_height\" + \".csv\")"
   ]
  },
  {
   "cell_type": "code",
   "execution_count": null,
   "metadata": {},
   "outputs": [],
   "source": [
    "usefull_attributes = [\"land_surface_condition\", \"foundation_type\", \"ground_floor_type\", \"other_floor_type\"]\n",
    "results = {}\n",
    "for elem in usefull_attributes:\n",
    "    foundation_type  = valuesDF[[\"building_id\", elem]].merge(labelsDF, on=\"building_id\")\n",
    "    foundation_type = foundation_type.set_index(\"building_id\")\n",
    "    foundation_type =  foundation_type.groupby(elem).agg({\"damage_grade\": [\"count\", \"mean\", \"std\"]})\n",
    "    results[elem] = foundation_type"
   ]
  },
  {
   "cell_type": "code",
   "execution_count": null,
   "metadata": {},
   "outputs": [],
   "source": [
    "results[\"land_surface_condition\"]\n",
    "for key in results:\n",
    "    results[key].to_csv(\"graficosLopez/\" + key + \".csv\")"
   ]
  }
 ],
 "metadata": {
  "kernelspec": {
   "display_name": "Python 3",
   "language": "python",
   "name": "python3"
  },
  "language_info": {
   "codemirror_mode": {
    "name": "ipython",
    "version": 3
   },
   "file_extension": ".py",
   "mimetype": "text/x-python",
   "name": "python",
   "nbconvert_exporter": "python",
   "pygments_lexer": "ipython3",
   "version": "3.8.5"
  }
 },
 "nbformat": 4,
 "nbformat_minor": 4
}
